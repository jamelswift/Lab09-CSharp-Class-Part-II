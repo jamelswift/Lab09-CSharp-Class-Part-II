{
 "cells": [
  {
   "cell_type": "markdown",
   "metadata": {
    "dotnet_interactive": {
     "language": "csharp"
    },
    "polyglot_notebook": {
     "kernelName": "csharp"
    }
   },
   "source": [
    "# Lab 9 Exercise 3\n",
    "\n",
    "## Instance vs static members\n"
   ]
  },
  {
   "cell_type": "markdown",
   "metadata": {},
   "source": [
    "\n",
    "1. สร้าง console application project\n",
    "\n",
    "```cmd\n",
    "    dotnet new console --name Lab09_Ex03\n",
    "```\n"
   ]
  },
  {
   "cell_type": "markdown",
   "metadata": {},
   "source": [
    "\n",
    "2. เปลี่ยน code ให้เป็นดังต่อไปนี้\n",
    "\n",
    "```csharp\n",
    "    Person.name = \"____Person name _____\";\n",
    "    System.Cοnsο1e.write1ine(Person.GetName());\n",
    "    var student = new Student();\n",
    "    student.name = \"_______student name_______\";\n",
    "    System.Conso1e.ωrite1ine(student.GetName());\n",
    "\n",
    "    static Class Person\n",
    "    {\n",
    "        static  pub1ic string? name;\n",
    "        static  pub1ic string GetName()\n",
    "        {\n",
    "            return $\"Hello from {nawe}\";\n",
    "        }\n",
    "    }\n",
    "\n",
    "    class Student : Person\n",
    "    {\n",
    "        \n",
    "    }\n",
    "```\n"
   ]
  },
  {
   "cell_type": "markdown",
   "metadata": {},
   "source": [
    "\n",
    "3. Build project โดยการใช้คำสั่ง\n",
    "\n",
    "```cmd\n",
    "dotnet bul1d  Lab09_Ex03\n",
    "```\n",
    "\n",
    "ถ้ามีที่ผิดพลาดในโปรแกรม ให้แก้ไขให้ถูกต้อง\n"
   ]
  },
  {
   "cell_type": "markdown",
   "metadata": {},
   "source": []
  },
  {
   "cell_type": "markdown",
   "metadata": {},
   "source": [
    "\n",
    "4. บันทึกผลที่ได้จากการรันคำสั่งในข้อ 3 \n"
   ]
  },
  {
   "attachments": {
    "image.png": {
     "image/png": "[encoded data removed]"
    }
   },
   "cell_type": "markdown",
   "metadata": {},
   "source": [
    "![image.png](attachment:image.png)"
   ]
  },
  {
   "cell_type": "markdown",
   "metadata": {},
   "source": [
    "\n",
    "5. Run project โดยการใช้คำสั่ง\n",
    "\n",
    "```cmd\n",
    "dotnet rum --project Lab09_Ex03\n",
    "```\n"
   ]
  },
  {
   "cell_type": "markdown",
   "metadata": {},
   "source": [
    "\n",
    "6. บันทึกผลที่ได้จากการรันคำสั่งในข้อ 5\n"
   ]
  },
  {
   "attachments": {
    "image.png": {
     "image/png": "[encoded data removed]"
    }
   },
   "cell_type": "markdown",
   "metadata": {},
   "source": [
    "![image.png](attachment:image.png)"
   ]
  },
  {
   "cell_type": "markdown",
   "metadata": {},
   "source": [
    "\n",
    "7. อธิบายสิ่งที่พบในการทดลอง"
   ]
  },
  {
   "cell_type": "markdown",
   "metadata": {},
   "source": [
    "เมื่อทำการเเก้โค้ดเเล้วทำการรันมีผล การทดลองคือ Hello from wipatsasicha\n",
    "Hello from Wipatsasicha"
   ]
  },
  {
   "cell_type": "markdown",
   "metadata": {},
   "source": [
    "## คำถาม"
   ]
  },
  {
   "cell_type": "markdown",
   "metadata": {},
   "source": [
    "1. ในภาษา C# นั้น Instance members และ static members  แตกต่างกันอย่างไร"
   ]
  },
  {
   "cell_type": "markdown",
   "metadata": {},
   "source": [
    " Instance Members (สมาชิกของออบเจ็กต์)\n",
    "\n",
    "ต้องสร้างออบเจ็กต์ (new ClassName()) ก่อนใช้งาน\n",
    "แต่ละออบเจ็กต์มีข้อมูลแยกจากกัน\n",
    "ใช้สำหรับข้อมูลที่แตกต่างกันในแต่ละออบเจ็กต์\n",
    "ถูกเก็บใน Heap Memory\n",
    "\n",
    " Static Members (สมาชิกของคลาส)\n",
    "\n",
    "ใช้งานได้เลยผ่านชื่อคลาส (ClassName.Method()) โดยไม่ต้องสร้างออบเจ็กต์\n",
    "ค่าถูกแชร์ร่วมกันทุกออบเจ็กต์\n",
    "ใช้สำหรับค่าคงที่ หรือฟังก์ชันที่ไม่ต้องอ้างอิงกับออบเจ็กต์\n",
    "ถูกเก็บใน Static Memory"
   ]
  },
  {
   "cell_type": "markdown",
   "metadata": {},
   "source": [
    "2. เข้าถึง Instance members และ static members มีหลักการที่แตกต่างกันอย่างไร"
   ]
  },
  {
   "cell_type": "markdown",
   "metadata": {},
   "source": [
    "Instance Members → ต้องสร้างออบเจ็กต์ก่อน (new)\n",
    "\n",
    "Static Members → เรียกใช้ได้ทันทีผ่านชื่อคลาส "
   ]
  },
  {
   "cell_type": "markdown",
   "metadata": {},
   "source": [
    "3. Instance members และ static members เหมาะกับการใช้งานแบบไหน"
   ]
  },
  {
   "cell_type": "markdown",
   "metadata": {},
   "source": [
    "Instance Members → ใช้เมื่อข้อมูลหรือฟังก์ชันต้องแยกกันในแต่ละออบเจ็กต์\n",
    "\n",
    "Static Members → ใช้เมื่อข้อมูลหรือฟังก์ชันต้องใช้ร่วมกันโดยไม่พึ่งออบเจ็กต์"
   ]
  },
  {
   "cell_type": "markdown",
   "metadata": {},
   "source": [
    "4. Instance members และ static members ใช้หน่วยความจำต่างกันอย่างไร"
   ]
  },
  {
   "cell_type": "markdown",
   "metadata": {},
   "source": [
    "Instance Members:\n",
    "\n",
    "-เก็บใน Heap Memory\n",
    "\n",
    "-ข้อมูลแยกต่างหากสำหรับแต่ละออบเจ็กต์\n",
    "\n",
    "-สร้างขึ้นเมื่อสร้างออบเจ็กต์, ทำลายเมื่อออบเจ็กต์ถูกเก็บขยะ\n",
    "\n",
    "Static Members:\n",
    "\n",
    "-เก็บใน Static Memory\n",
    "\n",
    "-ข้อมูลแชร์ร่วมกันโดยทุกออบเจ็กต์ของคลาสเดียวกัน\n",
    "\n",
    "-สร้างขึ้นเมื่อคลาสถูกโหลด, คงอยู่ตลอดชีวิตของโปรแกรม"
   ]
  },
  {
   "cell_type": "markdown",
   "metadata": {},
   "source": [
    "5. Instance members และ static members มีอายุการใช้งานต่างกันอย่างไร"
   ]
  },
  {
   "cell_type": "markdown",
   "metadata": {},
   "source": [
    "Instance Members:\n",
    "\n",
    "-อายุการใช้งานขึ้นอยู่กับ อายุการใช้งานของออบเจ็กต์\n",
    "\n",
    "-ถูกทำลายเมื่อออบเจ็กต์ถูกเก็บขยะ (Garbage Collection)\n",
    "\n",
    "Static Members:\n",
    "\n",
    "-อายุการใช้งานขึ้นอยู่กับ อายุการใช้งานของโปรแกรม\n",
    "\n",
    "-อยู่จนกระทั่งโปรแกรมสิ้นสุดหรือคลาสนั้นถูกปลดออกจากหน่วยความจำ"
   ]
  },
  {
   "cell_type": "markdown",
   "metadata": {},
   "source": [
    "6. Instance members และ static members สามารถใช้งานร่วมกันได้หรือไม่"
   ]
  },
  {
   "cell_type": "markdown",
   "metadata": {},
   "source": [
    "สามารถใช้ Static Members ใน Instance Method ได้ โดยไม่มีปัญหา เพราะ Static Members เชื่อมโยงกับคลาส\n",
    "\n",
    "ไม่สามารถใช้ Instance Members ใน Static Method ได้โดยตรง เพราะ Static Method ไม่มีออบเจ็กต์ที่อ้างอิงถึง instance members"
   ]
  },
  {
   "cell_type": "markdown",
   "metadata": {},
   "source": [
    "7. keyword static ใช้กับสมาชิกประเภทใดของคลาสได้บ้าง"
   ]
  },
  {
   "cell_type": "markdown",
   "metadata": {},
   "source": [
    "-Static Fields (ตัวแปร)\n",
    "\n",
    "-Static Methods (ฟังก์ชัน)\n",
    "\n",
    "-Static Properties (คุณสมบัติ)\n",
    "\n",
    "-Static Constructors (คอนสตรัคเตอร์)\n",
    "\n",
    "-Static Classes (คลาสทั้งหมด)"
   ]
  }
 ],
 "metadata": {
  "kernelspec": {
   "display_name": ".NET (C#)",
   "language": "C#",
   "name": ".net-csharp"
  },
  "polyglot_notebook": {
   "kernelInfo": {
    "defaultKernelName": "csharp",
    "items": [
     {
      "aliases": [],
      "languageName": "csharp",
      "name": "csharp"
     }
    ]
   }
  }
 },
 "nbformat": 4,
 "nbformat_minor": 2
}
