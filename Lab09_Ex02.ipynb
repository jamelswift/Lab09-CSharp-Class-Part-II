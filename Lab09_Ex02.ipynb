{
 "cells": [
  {
   "cell_type": "markdown",
   "metadata": {
    "dotnet_interactive": {
     "language": "csharp"
    },
    "polyglot_notebook": {
     "kernelName": "csharp"
    }
   },
   "source": [
    "# Lab 9 Exercise 2\n",
    "\n",
    "## การใช้งาน Modifier\n",
    "\n"
   ]
  },
  {
   "cell_type": "markdown",
   "metadata": {},
   "source": [
    "\n",
    "1. สร้าง console application project\n",
    "\n",
    "```\n",
    "    dothet new conwole __name Lab09_Ex02\n",
    "```\n"
   ]
  },
  {
   "cell_type": "markdown",
   "metadata": {},
   "source": [
    "\n",
    "2. เปลี่ยน code ให้เป็นดังต่อไปนี้\n",
    "\n",
    ">  ```csharp\n",
    ">       Person.name = \"___________________\";\n",
    ">       System.Cons01e.WrifeLine(Person.GetName());\n",
    ">       \n",
    ">       static Class Person\n",
    ">       {\n",
    ">           stαtic pub1ic  string? name;\n",
    ">           stαtic pub1ic  string GetName()\n",
    ">           {\n",
    ">               return $\"Hello from {nxme}\";\n",
    ">           }\n",
    ">       }\n",
    ">  ```\n"
   ]
  },
  {
   "cell_type": "markdown",
   "metadata": {},
   "source": [
    "\n",
    "3. Build project โดยการใช้คำสั่ง\n",
    "\n",
    "```cmd\n",
    "    dotpet build  Lab09_Ex52\n",
    "```\n",
    "\n",
    "ถ้ามีที่ผิดพลาดในโปรแกรม ให้แก้ไขให้ถูกต้อง\n",
    "\n"
   ]
  },
  {
   "cell_type": "markdown",
   "metadata": {},
   "source": []
  },
  {
   "cell_type": "markdown",
   "metadata": {},
   "source": [
    "\n",
    "4. บันทึกผลที่ได้จากการรันคำสั่งในข้อ 3\n"
   ]
  },
  {
   "attachments": {
    "image.png": {
     "image/png": "[encoded data removed]"
    }
   },
   "cell_type": "markdown",
   "metadata": {},
   "source": [
    "![image.png](attachment:image.png)"
   ]
  },
  {
   "cell_type": "markdown",
   "metadata": {},
   "source": [
    "\n",
    "5. Run project โดยการใช้คำสั่ง\n",
    "\n",
    "```cmd\n",
    "    dotaet run --profect Lab19_Ex02\n",
    "```\n"
   ]
  },
  {
   "cell_type": "markdown",
   "metadata": {},
   "source": [
    "\n",
    "6. บันทึกผลที่ได้จากการรันคำสั่งในข้อ 5\n"
   ]
  },
  {
   "attachments": {
    "image.png": {
     "image/png": "[encoded data removed]"
    }
   },
   "cell_type": "markdown",
   "metadata": {},
   "source": [
    "![image.png](attachment:image.png)"
   ]
  },
  {
   "cell_type": "markdown",
   "metadata": {},
   "source": [
    "\n",
    "7. อธิบายสิ่งที่พบในการทดลอง"
   ]
  },
  {
   "cell_type": "markdown",
   "metadata": {},
   "source": [
    "เมื่อเเก้โค้ดเเล้วสามารถรันได้ปกติ มีผลการรันคือ Hello from wipatsasicha"
   ]
  },
  {
   "cell_type": "markdown",
   "metadata": {},
   "source": [
    "## คำถาม"
   ]
  },
  {
   "cell_type": "markdown",
   "metadata": {},
   "source": [
    "1. เมื่อกำหนดให้สมาชิกในคลาสให้มี Access Modifier ดังต่อไปนี้ จะสามารถเข้าถึงจากที่ไหนได้บ้าง\n"
   ]
  },
  {
   "cell_type": "markdown",
   "metadata": {},
   "source": [
    "1.1 public"
   ]
  },
  {
   "cell_type": "markdown",
   "metadata": {},
   "source": [
    "-ใช้ได้จากทุกที่ (ทั้งภายในและภายนอกคลาส, ภายในและภายนอก Assembly)\n",
    "\n",
    "-เหมาะสำหรับเมธอดหรือคลาสที่ต้องการให้เข้าถึงได้อย่างอิสระ เช่น API หรือ Utility Class"
   ]
  },
  {
   "cell_type": "markdown",
   "metadata": {},
   "source": [
    "1.2 private"
   ]
  },
  {
   "cell_type": "markdown",
   "metadata": {},
   "source": [
    "-ใช้ได้แค่ภายในคลาสตัวเอง (ห้ามคลาสอื่นเข้าถึง)\n",
    "\n",
    "-เหมาะสำหรับซ่อนข้อมูลหรือเมธอดที่ไม่ต้องการให้ใช้จากภายนอก"
   ]
  },
  {
   "cell_type": "markdown",
   "metadata": {},
   "source": [
    "1.3 protected"
   ]
  },
  {
   "cell_type": "markdown",
   "metadata": {},
   "source": [
    "-ใช้ได้เฉพาะ ภายในคลาสตัวเอง และ คลาสลูก (inheritance) เท่านั้น\n",
    "\n",
    "-เหมาะสำหรับการออกแบบคลาสที่ต้องการให้ลูกสืบทอด แต่ไม่ต้องการให้คลาสอื่นเข้าถึง"
   ]
  },
  {
   "cell_type": "markdown",
   "metadata": {},
   "source": [
    "1.4 internal"
   ]
  },
  {
   "cell_type": "markdown",
   "metadata": {},
   "source": [
    "-ใช้ได้เฉพาะภายใน Assembly เดียวกัน แต่ ห้ามใช้จาก Assembly อื่น\n",
    "\n",
    "-เหมาะสำหรับการใช้งานภายในโครงการเดียวกัน เช่น Library ภายในบริษัท"
   ]
  },
  {
   "cell_type": "markdown",
   "metadata": {},
   "source": [
    "1.5 protected internal"
   ]
  },
  {
   "cell_type": "markdown",
   "metadata": {},
   "source": [
    "-ใช้ได้ทั้ง คลาสลูก (inheritance) และ ภายใน Assembly เดียวกัน\n",
    "\n",
    "-เหมาะสำหรับการออกแบบคลาสที่ต้องการให้ลูกสืบทอดได้ แม้จะอยู่คนละไฟล์ หรือให้ใช้ในโปรเจกต์เดียวกัน"
   ]
  }
 ],
 "metadata": {
  "kernelspec": {
   "display_name": ".NET (C#)",
   "language": "C#",
   "name": ".net-csharp"
  },
  "polyglot_notebook": {
   "kernelInfo": {
    "defaultKernelName": "csharp",
    "items": [
     {
      "aliases": [],
      "languageName": "csharp",
      "name": "csharp"
     }
    ]
   }
  }
 },
 "nbformat": 4,
 "nbformat_minor": 2
}
