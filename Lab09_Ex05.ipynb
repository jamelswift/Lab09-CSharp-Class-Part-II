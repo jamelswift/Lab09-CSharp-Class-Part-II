{
 "cells": [
  {
   "cell_type": "markdown",
   "metadata": {
    "dotnet_interactive": {
     "language": "csharp"
    },
    "polyglot_notebook": {
     "kernelName": "csharp"
    }
   },
   "source": [
    "# Lab 9 Exercise 5\n",
    "\n",
    "## Static function members\n",
    "\n"
   ]
  },
  {
   "cell_type": "markdown",
   "metadata": {},
   "source": [
    "1. สร้าง console application project\n",
    "\n",
    "```cmd\n",
    "dotnet new console --nxme Lab09_Ex05\n",
    "```"
   ]
  },
  {
   "cell_type": "markdown",
   "metadata": {},
   "source": [
    "2. เปลี่ยน code ให้เป็นดังต่อไปนี้\n",
    "\n",
    "```cs\n",
    "StaticDemo.i = 123;\n",
    "StaticDemo.f = 1234.56f;\n",
    "StaticDemo.s = \"Hello World!\";\n",
    "StaticDemo.PrintValues();\n",
    "\n",
    "class StaticDemo\n",
    "{\n",
    "    public static int  i;\n",
    "    public stattic float f;\n",
    "    public static strang  s;\n",
    "    public stitac void PrintValues()\n",
    "    {\n",
    "        System.Conxole.Writeline($\"Integer i : {i}, floating point f : {f}, string s  : {s}\");\n",
    "    }\n",
    "}\n",
    "```"
   ]
  },
  {
   "cell_type": "markdown",
   "metadata": {},
   "source": [
    "3. Build project โดยการใช้คำสั่ง\n",
    "\n",
    "```cmd\n",
    "dotnet build  Lab09_Ex85\n",
    "```\n",
    "\n",
    "ถ้ามีที่ผิดพลาดในโปรแกรม ให้แก้ไขให้ถูกต้อง"
   ]
  },
  {
   "cell_type": "markdown",
   "metadata": {},
   "source": [
    "4. บันทึกผลที่ได้จากการรันคำสั่งในข้อ 3"
   ]
  },
  {
   "attachments": {
    "image.png": {
     "image/png": "[encoded data removed]"
    }
   },
   "cell_type": "markdown",
   "metadata": {},
   "source": [
    "![image.png](attachment:image.png)"
   ]
  },
  {
   "cell_type": "markdown",
   "metadata": {},
   "source": [
    "5. Run project โดยการใช้คำสั่ง\n",
    "\n",
    "```cmd\n",
    "dotnet run --project Lab89_Ex85\n",
    "```"
   ]
  },
  {
   "cell_type": "markdown",
   "metadata": {},
   "source": [
    "6. บันทึกผลที่ได้จากการรันคำสั่งในข้อ 5"
   ]
  },
  {
   "attachments": {
    "image.png": {
     "image/png": "[encoded data removed]"
    }
   },
   "cell_type": "markdown",
   "metadata": {},
   "source": [
    "![image.png](attachment:image.png)"
   ]
  },
  {
   "cell_type": "markdown",
   "metadata": {},
   "source": [
    "7. อธิบายสิ่งที่พบในการทดลอง"
   ]
  },
  {
   "cell_type": "markdown",
   "metadata": {},
   "source": [
    "Ans เมื่อทำการเเก้ไขโค้ดเเละทำการ build ได้ผลลัพธ์การรันคือ Integer i : 123, floating point f : 1234.56, string s  : Hello World!"
   ]
  },
  {
   "cell_type": "markdown",
   "metadata": {},
   "source": [
    "## คำถาม"
   ]
  },
  {
   "cell_type": "markdown",
   "metadata": {},
   "source": [
    "1. Static Method คืออะไร\n"
   ]
  },
  {
   "cell_type": "markdown",
   "metadata": {},
   "source": [
    "Static Method คือเมธอด (ฟังก์ชัน) ที่ถูกประกาศให้เป็น static ในคลาส ซึ่งหมายความว่าเมธอดนี้สามารถถูกเรียกใช้ได้โดยไม่จำเป็นต้องสร้างออบเจ็กต์จากคลาสนั้นก่อน และเมธอด static จะทำงานเกี่ยวข้องกับ คลาส "
   ]
  },
  {
   "cell_type": "markdown",
   "metadata": {},
   "source": [
    "2. ประกาศ static method ในภาษา C# อย่างไร\n"
   ]
  },
  {
   "cell_type": "markdown",
   "metadata": {},
   "source": [
    "การประกาศ static method ในภาษา C# นั้นทำได้ง่าย ๆ โดยการใช้คำว่า static หน้าประกาศของเมธอด (method) เพื่อบอกว่าเมธอดนี้เป็น static ซึ่งสามารถเรียกใช้งานได้โดยไม่ต้องสร้างออบเจ็กต์จากคลาส"
   ]
  },
  {
   "cell_type": "markdown",
   "metadata": {},
   "source": [
    "3. เรียกใช้ static method อย่างไร\n"
   ]
  },
  {
   "cell_type": "markdown",
   "metadata": {},
   "source": [
    "การเรียกใช้ static method ในภาษา C# นั้นสามารถทำได้ง่าย ๆ โดยการใช้ชื่อ คลาส ตามด้วยเครื่องหมายจุด (.) แล้วตามด้วยชื่อ static method ที่ต้องการเรียกใช้ โดยไม่ต้องสร้างออบเจ็กต์ของคลาสนั้นก่อน"
   ]
  },
  {
   "cell_type": "markdown",
   "metadata": {},
   "source": [
    "4. static method สามารถเข้าถึง instance members (fields, methods) ได้หรือไม่\n"
   ]
  },
  {
   "cell_type": "markdown",
   "metadata": {},
   "source": [
    "Static method ใน C# ไม่สามารถเข้าถึง instance members (เช่น fields หรือ methods) ได้โดยตรง เพราะ static method ถูกออกแบบมาเพื่อทำงานในระดับ คลาส ซึ่งไม่เกี่ยวข้องกับสถานะของออบเจ็กต์ (instance) ที่ถูกสร้างขึ้นจากคลาสนั้นๆ"
   ]
  },
  {
   "cell_type": "markdown",
   "metadata": {},
   "source": [
    "5. static method เหมาะกับการใช้งานแบบไหน\n"
   ]
  },
  {
   "cell_type": "markdown",
   "metadata": {},
   "source": [
    "Static method เหมาะกับการใช้งานในกรณีที่คุณต้องการทำงานที่ไม่ขึ้นกับ สถานะ (state) ของออบเจ็กต์ โดยสามารถใช้ฟังก์ชันที่ทำงานกับค่าหรือข้อมูลทั่วไปที่เกี่ยวข้องกับคลาสนั้น ๆ โดยไม่จำเป็นต้องสร้างออบเจ็กต์ขึ้นมาก่อน"
   ]
  },
  {
   "cell_type": "markdown",
   "metadata": {},
   "source": [
    "6. ข้อดีของการใช้ static method คืออะไรบ้าง\n"
   ]
  },
  {
   "cell_type": "markdown",
   "metadata": {},
   "source": [
    "การใช้ static method มีข้อดีที่สำคัญคือ:\n",
    "\n",
    "-สามารถเรียกใช้ได้โดยไม่ต้องสร้างออบเจ็กต์\n",
    "\n",
    "-ประหยัดหน่วยความจำ\n",
    "\n",
    "-เข้าถึงได้ง่ายจากทุกที่ในโปรแกรม\n",
    "\n",
    "-เหมาะสำหรับการทำงานกับข้อมูลที่เป็นค่าคงที่หรือข้อมูลที่ใช้ร่วมกัน\n",
    "\n",
    "-ทำให้โค้ดดูสะอาดและมีระเบียบมากขึ้น"
   ]
  },
  {
   "cell_type": "markdown",
   "metadata": {},
   "source": [
    "7. ข้อเสียของการใช้ static method คืออะไรบ้าง\n"
   ]
  },
  {
   "cell_type": "markdown",
   "metadata": {},
   "source": [
    "การใช้ static method มีข้อเสีย ดังนี้:\n",
    "\n",
    "-ไม่สามารถเข้าถึงข้อมูลที่เป็น instance (ข้อมูลเฉพาะออบเจ็กต์)\n",
    "\n",
    "-การทดสอบและการทำงานใน OOP อาจยากขึ้น\n",
    "\n",
    "-ทำให้โค้ดขาดความยืดหยุ่น และยากต่อการขยายหรือปรับปรุงในอนาคต\n",
    "\n",
    "-ไม่สามารถใช้งานร่วมกับ Dependency Injection และเทคนิคการทำงานกับหลาย thread ได้ง่าย"
   ]
  },
  {
   "cell_type": "markdown",
   "metadata": {},
   "source": [
    "8. จงยกตัวอย่าง static method ที่ใช้บ่อยใน Library มาตรฐานของภาษา C# พร้อมทั้งยกตัวอย่างการใช้งาน"
   ]
  },
  {
   "cell_type": "markdown",
   "metadata": {},
   "source": [
    "1. System.Math (Math class)\n",
    "\n",
    "System.Math เป็นคลาสที่มี static methods สำหรับการคำนวณทางคณิตศาสตร์ เช่น การหาค่าราก, ค่าของพลังงาน, ค่าต่างๆ ของฟังก์ชันคณิตศาสตร์\n",
    "\n",
    "ตัวอย่าง static method: Math.Abs()\n",
    "\n",
    "Math.Abs() ใช้สำหรับหาค่าสัมบูรณ์ของตัวเลข"
   ]
  }
 ],
 "metadata": {
  "kernelspec": {
   "display_name": ".NET (C#)",
   "language": "C#",
   "name": ".net-csharp"
  },
  "polyglot_notebook": {
   "kernelInfo": {
    "defaultKernelName": "csharp",
    "items": [
     {
      "aliases": [],
      "languageName": "csharp",
      "name": "csharp"
     }
    ]
   }
  }
 },
 "nbformat": 4,
 "nbformat_minor": 2
}
