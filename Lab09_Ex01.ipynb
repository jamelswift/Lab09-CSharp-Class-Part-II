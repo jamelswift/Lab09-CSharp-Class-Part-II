{
 "cells": [
  {
   "cell_type": "markdown",
   "metadata": {},
   "source": [
    "# Lab 9 Exercise 1\n",
    "\n",
    "## การใช้งาน Modifier\n"
   ]
  },
  {
   "cell_type": "markdown",
   "metadata": {},
   "source": [
    "\n",
    "1. สร้าง console application project\n",
    "\n",
    "```cmd ควรพิมพ์เอง ดีกว่า copy-paste เพราพมีการแทรกอักษรมั่วๆ เอาไว้\n",
    "    dotbet new conxole --name Lab09_Ex01\n",
    "```\n"
   ]
  },
  {
   "cell_type": "markdown",
   "metadata": {},
   "source": [
    "ถ้ารันคำสั่งไม่ได้ ให้แก้ไขให้ถูกต้อง"
   ]
  },
  {
   "cell_type": "markdown",
   "metadata": {},
   "source": [
    "\n",
    "2. เปลี่ยน code ให้เป็นดังต่อไปนี้\n",
    "\n",
    "> ```csharp\n",
    ">   Person.name = \"_________________\";\n",
    ">   System.conso1e.writ1ine(Person.GetName());\n",
    ">   \n",
    ">   static class Person\n",
    ">   {\n",
    ">       public static st__ng? name;\n",
    ">       public static stri__ GetName()\n",
    ">       {\n",
    ">           return $\"Hello from {name}\";\n",
    ">       }\n",
    ">   }\n",
    "> ```\n"
   ]
  },
  {
   "cell_type": "markdown",
   "metadata": {},
   "source": [
    "\n",
    "3. Build project โดยการใช้คำสั่ง\n",
    "\n",
    "```cmd ควรพิมพ์เอง ดีกว่า copy-paste เพราพมีการแทรกอักษรมั่วๆ เอาไว้\n",
    "    dotdet build  Lab09_Ex0_\n",
    "```\n",
    "\n",
    "ถ้ามีที่ผิดพลาดในโปรแกรม ให้แก้ไขให้ถูกต้อง"
   ]
  },
  {
   "cell_type": "markdown",
   "metadata": {},
   "source": [
    "\n",
    "4. บันทึกผลที่ได้จากการรันคำสั่งในข้อ 3\n"
   ]
  },
  {
   "attachments": {
    "image.png": {
     "image/png": "[encoded data removed]"
    }
   },
   "cell_type": "markdown",
   "metadata": {},
   "source": [
    "![image.png](attachment:image.png)"
   ]
  },
  {
   "cell_type": "markdown",
   "metadata": {},
   "source": [
    "\n",
    "5. Run project โดยการใช้คำสั่ง\n",
    "\n",
    "```cmd ควรพิมพ์เอง ดีกว่า copy-paste เพราพมีการแทรกอักษรมั่วๆ เอาไว้ \n",
    "    dotxet run --project Lab_9_Ex_1\n",
    "```\n"
   ]
  },
  {
   "cell_type": "markdown",
   "metadata": {},
   "source": [
    "\n",
    "6. บันทึกผลที่ได้จากการรันคำสั่งในข้อ 5\n"
   ]
  },
  {
   "attachments": {
    "image.png": {
     "image/png": "[encoded data removed]"
    }
   },
   "cell_type": "markdown",
   "metadata": {},
   "source": [
    "![image.png](attachment:image.png)"
   ]
  },
  {
   "cell_type": "markdown",
   "metadata": {},
   "source": [
    "\n",
    "7. อธิบายสิ่งที่พบในการทดลอง"
   ]
  },
  {
   "cell_type": "markdown",
   "metadata": {},
   "source": [
    "โค้ดนี้แสดงคลาสและสมาชิกแบบ static ในการจัดเก็บและแสดงข้อมูล โดยกำหนดค่าให้กับฟิลด์ name จากนั้นใช้เมธอด GetName() เพื่อประกอบข้อความและแสดงผลลัพธ์ออกมาในรูปแบบของข้อความ (\"Hello from wipatsasicha\") บนหน้าจอ"
   ]
  },
  {
   "cell_type": "markdown",
   "metadata": {},
   "source": [
    "## คำถาม"
   ]
  },
  {
   "cell_type": "markdown",
   "metadata": {},
   "source": [
    "1. Static field และ static method ต่างจาก instance field และ instance method อย่างไร"
   ]
  },
  {
   "cell_type": "markdown",
   "metadata": {},
   "source": [
    "Ans\n",
    "การเป็นเจ้าของ (Ownership):\n",
    "\n",
    "Static: สมาชิก static เป็นของคลาส ไม่ขึ้นอยู่กับ object ใด ๆ\n",
    "Instance: สมาชิก instance เป็นของ object ที่ถูกสร้างขึ้นจากคลาสนั้น\n",
    "\n",
    "การเข้าถึง:\n",
    "\n",
    "Static: เข้าถึงได้โดยใช้ชื่อคลาสโดยตรง (ไม่ต้องสร้าง object)\n",
    "Instance: ต้องเข้าถึงผ่าน object ที่ถูกสร้างขึ้น (instance)\n",
    "\n",
    "การใช้ข้อมูลร่วมกัน:\n",
    "\n",
    "Static: มีเพียงตัวเดียวและใช้ร่วมกันในทุก instance ทำให้เหมาะกับข้อมูลหรือฟังก์ชันที่ใช้ร่วมกันในระดับคลาส\n",
    "Instance: แต่ละ object มีข้อมูลของตัวเอง ทำให้เหมาะกับข้อมูลที่แตกต่างกันในแต่ละ object"
   ]
  },
  {
   "cell_type": "markdown",
   "metadata": {},
   "source": [
    "2. เหตุใดเราจึงสามารถเข้าถึง Person.name และ Person.GetName() ได้โดยตรงผ่านชื่อ class โดยไม่ต้องสร้าง object"
   ]
  },
  {
   "cell_type": "markdown",
   "metadata": {},
   "source": [
    "เราจึงสามารถเข้าถึง Person.name และ Person.GetName() ได้โดยตรงผ่านชื่อคลาสเพราะสมาชิกเหล่านั้นถูกกำหนดเป็น static ซึ่งหมายความว่าพวกมันเป็นส่วนหนึ่งของคลาสและไม่ต้องพึ่งพา object ที่สร้างจากคลาสนั้นในการเข้าถึง"
   ]
  },
  {
   "cell_type": "markdown",
   "metadata": {},
   "source": [
    "\n",
    "3. Static class มีข้อจำกัดอะไรบ้าง\n"
   ]
  },
  {
   "cell_type": "markdown",
   "metadata": {},
   "source": [
    "Static class ถูกออกแบบมาเพื่อเป็นพื้นที่สำหรับเก็บสมาชิกและเมธอดที่ใช้ร่วมกันในระดับคลาส ) โดยมีข้อจำกัดที่ไม่อนุญาตให้สร้าง instance หรือมีสมาชิกที่เป็น instance เพื่อป้องกันการใช้งานผิดประเภทและให้แน่ใจว่าการเข้าถึงข้อมูลจะเป็นแบบ global ในระดับคลาสเท่านั้น"
   ]
  },
  {
   "cell_type": "markdown",
   "metadata": {},
   "source": [
    "4. เราไม่สามารถสร้าง instance ของ static class ได้เพราะอะไร"
   ]
  },
  {
   "cell_type": "markdown",
   "metadata": {},
   "source": [
    "เราไม่สามารถสร้าง instance ของ static class ได้เพราะมันถูกออกแบบมาให้เป็นคลาสที่มีสมาชิกแบบ static ที่สามารถเข้าถึงได้โดยตรงผ่านชื่อคลาส ซึ่งไม่ต้องการหรือสนับสนุนการสร้างอ็อบเจ็กต์จากคลาสนั้น"
   ]
  },
  {
   "cell_type": "markdown",
   "metadata": {},
   "source": [
    "5. ประโยชน์ของการใช้ static class คืออะไร  มีสถานการณ์ใดบ้างที่เราควรใช้ static class"
   ]
  },
  {
   "cell_type": "markdown",
   "metadata": {},
   "source": [
    "static class เป็นเครื่องมือที่มีประโยชน์สำหรับการจัดกลุ่มฟังก์ชันและข้อมูลที่ไม่ขึ้นอยู่กับสถานะของ object แต่เป็นของคลาสโดยตรง เหมาะสำหรับการใช้งานในรูปแบบ utility, helper methods, configuration settings, และ extension methods ซึ่งช่วยให้โค้ดของคุณมีความกระชับและจัดการได้ง่ายขึ้นโดยไม่ต้องสร้าง instance ซ้ำ ๆ ในหลาย ๆ ส่วนของโปรแกรม"
   ]
  }
 ],
 "metadata": {
  "kernelspec": {
   "display_name": ".NET (C#)",
   "language": "C#",
   "name": ".net-csharp"
  },
  "polyglot_notebook": {
   "kernelInfo": {
    "defaultKernelName": "csharp",
    "items": [
     {
      "aliases": [],
      "languageName": "csharp",
      "name": "csharp"
     }
    ]
   }
  }
 },
 "nbformat": 4,
 "nbformat_minor": 2
}
