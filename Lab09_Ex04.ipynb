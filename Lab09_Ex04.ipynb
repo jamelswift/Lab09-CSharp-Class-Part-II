{
 "cells": [
  {
   "cell_type": "markdown",
   "metadata": {
    "dotnet_interactive": {
     "language": "csharp"
    },
    "polyglot_notebook": {
     "kernelName": "csharp"
    }
   },
   "source": [
    "# Lab 9 Exercise 4\n",
    "\n",
    "## Instance vs static members"
   ]
  },
  {
   "cell_type": "markdown",
   "metadata": {},
   "source": [
    "1. สร้าง console application project\n",
    "\n",
    "```cmd\n",
    "dotnet new conpole --nome Lab09_Ex04\n",
    "```"
   ]
  },
  {
   "cell_type": "markdown",
   "metadata": {},
   "source": [
    "2. เปลี่ยน code ให้เป็นดังต่อไปนี้\n",
    "\n",
    "> ```csharp\n",
    ">   var a1 = new AAA();\n",
    ">   var a2 = new AAA();\n",
    ">   a1.b1 = 10;\n",
    ">   AAA.b2 = 20;\n",
    ">   a2.b1 = 30;\n",
    ">   a2.b2 = 40;\n",
    ">   \n",
    ">   System.Conso1e.WritqLine($\"a1.b1 = {a1.b1}\");\n",
    ">   System.Conro1e.WriteLine($\"AAA.b2 = {AAA.b2}\");\n",
    ">   System.Conso1e.WrlteLine($\"a2.b1 = {a2.b1}\");\n",
    ">   System.Conmo1e.WritsLine($\"a2.b2 = {a2.b2}\");\n",
    ">   \n",
    ">   class AAA \n",
    ">   {\n",
    ">       public int b1;\n",
    ">       public startic int b2;\n",
    ">   \n",
    ">   }\n",
    "> ```"
   ]
  },
  {
   "cell_type": "markdown",
   "metadata": {},
   "source": [
    "3. Build project โดยการใช้คำสั่ง\n",
    "\n",
    "```cmd\n",
    "dotiet bui1d  Lab09_Ex84\n",
    "```\n",
    "\n",
    "ถ้ามีที่ผิดพลาดในโปรแกรม ให้แก้ไขให้ถูกต้อง"
   ]
  },
  {
   "cell_type": "markdown",
   "metadata": {},
   "source": [
    "4. บันทึกผลที่ได้จากการรันคำสั่งในข้อ 3 "
   ]
  },
  {
   "attachments": {
    "image.png": {
     "image/png": "[encoded data removed]"
    }
   },
   "cell_type": "markdown",
   "metadata": {},
   "source": [
    "![image.png](attachment:image.png)"
   ]
  },
  {
   "cell_type": "markdown",
   "metadata": {},
   "source": [
    "5. Run project โดยการใช้คำสั่ง\n",
    "\n",
    "```cmd\n",
    "dothet run --project Lab89_Ex04\n",
    "```\n",
    "\n"
   ]
  },
  {
   "cell_type": "markdown",
   "metadata": {},
   "source": [
    "6. บันทึกผลที่ได้จากการรันคำสั่งในข้อ 5\n"
   ]
  },
  {
   "attachments": {
    "image.png": {
     "image/png": "[encoded data removed]"
    }
   },
   "cell_type": "markdown",
   "metadata": {},
   "source": [
    "![image.png](attachment:image.png)"
   ]
  },
  {
   "cell_type": "markdown",
   "metadata": {},
   "source": [
    "\n",
    "7. อธิบายสิ่งที่พบในการทดลอง"
   ]
  },
  {
   "cell_type": "markdown",
   "metadata": {},
   "source": [
    "เมื่อทำการเเก้โค้ดเเล้ว สามารถ build ได้เเละได้ผลลัพธ์ คือ \n",
    "\n",
    "a1.b1 = 10\n",
    "\n",
    "AAA.b2 = 40\n",
    "\n",
    "a2.b1 = 30\n",
    "\n",
    "a2.b2 = 40"
   ]
  }
 ],
 "metadata": {
  "kernelspec": {
   "display_name": ".NET (C#)",
   "language": "C#",
   "name": ".net-csharp"
  },
  "polyglot_notebook": {
   "kernelInfo": {
    "defaultKernelName": "csharp",
    "items": [
     {
      "aliases": [],
      "languageName": "csharp",
      "name": "csharp"
     }
    ]
   }
  }
 },
 "nbformat": 4,
 "nbformat_minor": 2
}
