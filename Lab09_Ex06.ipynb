{
 "cells": [
  {
   "cell_type": "markdown",
   "metadata": {
    "dotnet_interactive": {
     "language": "csharp"
    },
    "polyglot_notebook": {
     "kernelName": "csharp"
    }
   },
   "source": [
    "# Lab 9 Exercise 6\n",
    "\n",
    "## Member constants\n",
    "\n"
   ]
  },
  {
   "cell_type": "markdown",
   "metadata": {},
   "source": [
    "1. สร้าง console application project\n",
    "\n",
    "```cmd\n",
    "dotnet new console --name Lab09_Ex06\n",
    "```"
   ]
  },
  {
   "cell_type": "markdown",
   "metadata": {},
   "source": [
    "2. เปลี่ยน code ให้เป็นดังต่อไปนี้\n",
    "\n",
    ">  ```csharp\n",
    ">   Circle.PrintCircleArea(100);\n",
    ">   \n",
    ">   class Circle\n",
    ">   {\n",
    ">       const double PI = 3.14159;\n",
    ">       public statix void PrintCircleArea(double radius)\n",
    ">       {\n",
    ">           System.Conxole.Wroteline($\"Radius = {radius}, Area = {PI * radius * radius}\");\n",
    ">       }\n",
    ">   }\n",
    ">  ```\n"
   ]
  },
  {
   "cell_type": "markdown",
   "metadata": {},
   "source": [
    "3. Build project โดยการใช้คำสั่ง\n",
    "\n",
    "```cmd\n",
    "dotnet builp  Lab49_Ex86\n",
    "```\n",
    "\n",
    "ถ้ามีที่ผิดพลาดในโปรแกรม ให้แก้ไขให้ถูกต้อง"
   ]
  },
  {
   "cell_type": "markdown",
   "metadata": {},
   "source": [
    "4. บันทึกผลที่ได้จากการรันคำสั่งในข้อ 3 "
   ]
  },
  {
   "attachments": {
    "image.png": {
     "image/png": "[encoded data removed]"
    }
   },
   "cell_type": "markdown",
   "metadata": {},
   "source": [
    "![image.png](attachment:image.png)"
   ]
  },
  {
   "cell_type": "markdown",
   "metadata": {},
   "source": [
    "5. Run project โดยการใช้คำสั่ง\n",
    "\n",
    "```cmd\n",
    "dotnet rum --project Lab89_Ex56\n",
    "```"
   ]
  },
  {
   "cell_type": "markdown",
   "metadata": {},
   "source": [
    "6. บันทึกผลที่ได้จากการรันคำสั่งในข้อ 5"
   ]
  },
  {
   "attachments": {
    "image.png": {
     "image/png": "[encoded data removed]"
    }
   },
   "cell_type": "markdown",
   "metadata": {},
   "source": [
    "![image.png](attachment:image.png)"
   ]
  },
  {
   "cell_type": "markdown",
   "metadata": {},
   "source": [
    "7. อธิบายสิ่งที่พบในการทดลอง"
   ]
  },
  {
   "cell_type": "markdown",
   "metadata": {},
   "source": [
    "เมื่อทำการเเก้ไขโค้ดเเละทำการbuildเเล้ว ผลลัพธ์ที่ได้คือ Radius = 100, Area = 31415.899999999998"
   ]
  },
  {
   "cell_type": "markdown",
   "metadata": {},
   "source": [
    "## คำถาม"
   ]
  },
  {
   "cell_type": "markdown",
   "metadata": {},
   "source": [
    "1. Member constant คืออะไร และมีคุณสมบัติอย่างไร\n"
   ]
  },
  {
   "cell_type": "markdown",
   "metadata": {},
   "source": [
    "-Member constant คือค่าคงที่ที่ประกาศภายในคลาสหรือโครงสร้าง ซึ่งไม่สามารถเปลี่ยนแปลงได้หลังจากการประกาศ\n",
    "\n",
    "-ใช้คีย์เวิร์ด const ในการประกาศ\n",
    "\n",
    "-สามารถใช้ได้ในหลายประเภทข้อมูล และต้องกำหนดค่าในตอนประกาศ\n",
    "\n",
    "-ค่าของ constant จะถูกกำหนดในตอนคอมไพล์ (compile-time) และสามารถใช้ในโปรแกรมได้จากทั่วทุกที่ที่เข้าถึงได้"
   ]
  },
  {
   "cell_type": "markdown",
   "metadata": {},
   "source": [
    "2. เราสามารถประกาศ member constant ในภาษา C# ได้อย่างไร\n"
   ]
  },
  {
   "cell_type": "markdown",
   "metadata": {},
   "source": [
    "ในการประกาศ member constant ในภาษา C# สามารถทำได้โดยการใช้คีย์เวิร์ด const ตามด้วยประเภทของข้อมูลและค่าของ constant ที่ต้องการกำหนด"
   ]
  },
  {
   "cell_type": "markdown",
   "metadata": {},
   "source": [
    "3. member constant สามารถสร้างเป็นชนิดข้อมูลใดได้บ้าง\n"
   ]
  },
  {
   "cell_type": "markdown",
   "metadata": {},
   "source": [
    "สามารถใช้ member constant ใน C# กับประเภทข้อมูลที่คอมไพล์ได้ในตอนการประกาศ ซึ่งรวมถึง:\n",
    "\n",
    "-ชนิดข้อมูลตัวเลข (int, long, float, double, decimal)\n",
    "\n",
    "-อักขระ (char)\n",
    "\n",
    "-ค่าบูลีน (bool)\n",
    "\n",
    "-สตริง (string)\n",
    "\n",
    "-Enum"
   ]
  },
  {
   "cell_type": "markdown",
   "metadata": {},
   "source": [
    "4. เราสามารถเข้าถึง member constant ได้อย่างไร\n"
   ]
  },
  {
   "cell_type": "markdown",
   "metadata": {},
   "source": [
    "การเข้าถึง member constant  ในภาษา C# สามารถทำได้โดยการใช้ชื่อคลาสและชื่อของ member constant นั้นๆ หรือในกรณีที่ constant เป็น instance member ก็สามารถเข้าถึงได้จากตัวแปรอินสแตนซ์ของคลาสนั้นๆ ได้"
   ]
  },
  {
   "cell_type": "markdown",
   "metadata": {},
   "source": [
    "5. member constant เป็น static โดยปริยายหรือไม่\n"
   ]
  },
  {
   "cell_type": "markdown",
   "metadata": {},
   "source": [
    "-member constant (ที่ประกาศด้วย const) จะถูกถือว่าเป็น static โดยอัตโนมัติ เพราะมันถูกแชร์ระหว่างทุกอ็อบเจ็กต์ของคลาสนั้น\n",
    "\n",
    "-ไม่จำเป็นต้องระบุ static เมื่อประกาศ const เพราะมันจะเป็น static โดยปริยาย"
   ]
  },
  {
   "cell_type": "markdown",
   "metadata": {},
   "source": [
    "6. มีข้อจำกัดอะไรบ้างในการใช้ member constant \n"
   ]
  },
  {
   "cell_type": "markdown",
   "metadata": {},
   "source": [
    "ข้อจำกัดในการใช้ member constant:\n",
    "\n",
    "-ค่าคงที่ต้องเป็นค่าคงที่ในเวลา compile-time.\n",
    "\n",
    "-ไม่สามารถเปลี่ยนแปลงค่า ได้หลังจากที่กำหนดแล้ว.\n",
    "\n",
    "-ไม่สามารถเป็น null ยกเว้น nullable types.\n",
    "\n",
    "-ไม่สามารถใช้กับ reference types (ใช้ได้กับ value types).\n",
    "\n",
    "-ค่าคงที่ const จะเป็น static โดยอัตโนมัติ."
   ]
  },
  {
   "cell_type": "markdown",
   "metadata": {},
   "source": [
    "7. member constant เหมาะกับการใช้งานแบบไหน\n"
   ]
  },
  {
   "cell_type": "markdown",
   "metadata": {},
   "source": [
    "Member constant (ค่าคงที่ที่ประกาศในคลาส) เหมาะกับการใช้งานในกรณีที่คุณต้องการเก็บค่า ที่ไม่เปลี่ยนแปลงตลอดการทำงานของโปรแกรม และสามารถเข้าถึงได้จากทุกส่วนในโปรแกรมโดยไม่ต้องสร้างอ็อบเจ็กต์ของคลาสที่เก็บค่าคงที่นั้นๆ"
   ]
  },
  {
   "cell_type": "markdown",
   "metadata": {},
   "source": [
    "8. จงตัวอย่าง Member Constant ในไลบรารี่ของภาษา C#"
   ]
  },
  {
   "cell_type": "markdown",
   "metadata": {},
   "source": [
    "ตัวอย่าง Member Constant ในไลบรารี่ของภาษา C#\n",
    "\n",
    "Double.MaxValue และ Double.MinValue:\n",
    "\n",
    "ค่าคงที่ที่เก็บค่า ค่ามากที่สุด และ ค่าน้อยที่สุด ของชนิดข้อมูล double (64-bit floating point number)\n",
    "อยู่ในคลาส System.Double"
   ]
  }
 ],
 "metadata": {
  "kernelspec": {
   "display_name": ".NET (C#)",
   "language": "C#",
   "name": ".net-csharp"
  },
  "polyglot_notebook": {
   "kernelInfo": {
    "defaultKernelName": "csharp",
    "items": [
     {
      "aliases": [],
      "languageName": "csharp",
      "name": "csharp"
     }
    ]
   }
  }
 },
 "nbformat": 4,
 "nbformat_minor": 2
}
